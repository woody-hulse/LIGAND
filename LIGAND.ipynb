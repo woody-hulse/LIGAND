{
 "cells": [
  {
   "cell_type": "markdown",
   "metadata": {},
   "source": [
    "# Ligand"
   ]
  },
  {
   "cell_type": "markdown",
   "metadata": {},
   "source": [
    "## Preprocessing\n",
    "\n",
    "Download data using links below and put them in the `data` folder.\n",
    "\n",
    "TODO: add links"
   ]
  },
  {
   "cell_type": "markdown",
   "metadata": {},
   "source": [
    "## Training\n",
    "\n",
    "TODO: add various models and training\n",
    "make sure to display losses, accuracies, and auroc"
   ]
  },
  {
   "cell_type": "markdown",
   "metadata": {},
   "source": [
    "## Analysis\n",
    "\n",
    "TODO:\n",
    "\n",
    "Per model:\n",
    "- pertubation analysis\n",
    "- example grnas\n",
    "- heatmap of deviation from complement\n",
    "\n",
    "Cross model:\n",
    "- aurocs\n",
    "- accuracy\n",
    "- loss"
   ]
  }
 ],
 "metadata": {
  "language_info": {
   "name": "python"
  }
 },
 "nbformat": 4,
 "nbformat_minor": 2
}
